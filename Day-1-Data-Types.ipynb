{
 "cells": [
  {
   "cell_type": "markdown",
   "metadata": {},
   "source": [
    "### DAY 1: Data Types\n",
    "\n",
    "**Objective**\n",
    "Today, we're discussing data types. Check out the Tutorial tab for learning materials and an instructional video!\n",
    "\n",
    "**Task**\n",
    "Complete the code in the editor below. The variables *i*, *d*, and *s* are already declared and initialized for you. You must:\n",
    "\n",
    "1. Declare *3* variables: one of type int, one of type double, and one of type String.\n",
    "2. Read *3* lines of input from stdin (according to the sequence given in the Input Format section below) and initialize your *3* variables.\n",
    "3. Use the *+* operator to perform the following operations:\n",
    "  1. Print the sum of *i* plus your int variable on a new line.\n",
    "  2. Print the sum of *d* plus your double variable to a scale of one decimal place on a new line.\n",
    "  3. Concatenate *s* with the string you read as input and print the result on a new line.\n",
    "\n",
    "**Note:** If you are using a language that doesn't support using *+* for string concatenation (e.g.: C), you can just print one variable immediately following the other on the same line. The string provided in your editor must be printed first, immediately followed by the string you read as input.\n",
    "\n",
    "**Input Format**\n",
    "The first line contains an integer that you must sum with *i*.\n",
    "The second line contains a double that you must sum with *d*.\n",
    "The third line contains a string that you must concatenate with *s*.\n",
    "\n",
    "**Output Format**\n",
    "Print the sum of both integers on the first line, the sum of both doubles (scaled to **1** decimal place) on the second line, and then the two concatenated strings on the third line."
   ]
  },
  {
   "cell_type": "code",
   "execution_count": 1,
   "metadata": {},
   "outputs": [
    {
     "name": "stdout",
     "output_type": "stream",
     "text": [
      "20\n",
      "12.0\n",
      "HackerRank is the best place to learn and practice coding!\n"
     ]
    }
   ],
   "source": [
    "i = 4\n",
    "d = 4.0\n",
    "s = 'HackerRank '\n",
    "\n",
    "i2 = int(input())\n",
    "d2 = float(input())\n",
    "s2 = str(input())\n",
    "\n",
    "print(i+i2)\n",
    "print(d+d2)\n",
    "print(s+s2)"
   ]
  }
 ],
 "metadata": {
  "kernelspec": {
   "display_name": "Python 3",
   "language": "python",
   "name": "python3"
  },
  "language_info": {
   "codemirror_mode": {
    "name": "ipython",
    "version": 3
   },
   "file_extension": ".py",
   "mimetype": "text/x-python",
   "name": "python",
   "nbconvert_exporter": "python",
   "pygments_lexer": "ipython3",
   "version": "3.10.11"
  },
  "orig_nbformat": 4
 },
 "nbformat": 4,
 "nbformat_minor": 2
}
