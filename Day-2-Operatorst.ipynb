{
 "cells": [
  {
   "cell_type": "markdown",
   "metadata": {},
   "source": [
    "### Day 2: Operators\n",
    "\n",
    "**Objective**<br>\n",
    "In this challenge, you will work with arithmetic operators. Check out the Tutorial tab for learning materials and an instructional video.\n",
    "\n",
    "**Task**<br>\n",
    "Given the meal price (base cost of a meal), tip percent (the percentage of the meal price being added as tip), and tax percent (the percentage of the meal price being added as tax) for a meal, find and print the meal's total cost. Round the result to the nearest integer.\n",
    "\n",
    "**Example**<br>\n",
    "*mealcost = 100* <br>\n",
    "*tippercent = 15*<br>\n",
    "*taxpercent = 8*<br>\n",
    "A tip of 15% * 100 = 15, and the taxes are 8% * 100 = 8. Print the value  and return from the function.\n",
    "\n",
    "**Function Description**<br>\n",
    "Complete the solve function in the editor below.<br>\n",
    "solve has the following parameters:\n",
    "- int meal_cost: the cost of food before tip and tax\n",
    "- int tip_percent: the tip percentage\n",
    "- int tax_percent: the tax percentage<br>\n",
    "Returns The function returns nothing. Print the calculated value, rounded to the nearest integer.\n",
    "\n",
    "**Note:** Be sure to use precise values for your calculations, or you may end up with an incorrectly rounded result.\n",
    "\n",
    "**Input Format**<br>\n",
    "There are *3* lines of numeric input:<br>\n",
    "The first line has a double, *mealcost* (the cost of the meal before tax and tip).<br>\n",
    "The second line has an integer, *tippercent* (the percentage of *mealcost* being added as tip).<br>\n",
    "The third line has an integer, *taxpercent* (the percentage of *mealcost* being added as tax)."
   ]
  },
  {
   "cell_type": "code",
   "execution_count": 1,
   "metadata": {},
   "outputs": [
    {
     "name": "stdout",
     "output_type": "stream",
     "text": [
      "15\n"
     ]
    }
   ],
   "source": [
    "def solve(meal_cost, tip_percent, tax_percent):\n",
    "    \n",
    "    a = (tip_percent/100) * meal_cost\n",
    "    b = (tax_percent/100)*meal_cost    \n",
    "    total_cost = meal_cost + a + b\n",
    "    \n",
    "    return print(round(total_cost))\n",
    "\n",
    "if __name__ == '__main__':\n",
    "    meal_cost = float(input().strip())\n",
    "\n",
    "    tip_percent = int(input().strip())\n",
    "\n",
    "    tax_percent = int(input().strip())\n",
    "\n",
    "    solve(meal_cost, tip_percent, tax_percent)"
   ]
  }
 ],
 "metadata": {
  "kernelspec": {
   "display_name": "Python 3",
   "language": "python",
   "name": "python3"
  },
  "language_info": {
   "codemirror_mode": {
    "name": "ipython",
    "version": 3
   },
   "file_extension": ".py",
   "mimetype": "text/x-python",
   "name": "python",
   "nbconvert_exporter": "python",
   "pygments_lexer": "ipython3",
   "version": "3.10.11"
  },
  "orig_nbformat": 4
 },
 "nbformat": 4,
 "nbformat_minor": 2
}
