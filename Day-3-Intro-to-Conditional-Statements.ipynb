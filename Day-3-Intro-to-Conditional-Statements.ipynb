{
 "cells": [
  {
   "cell_type": "markdown",
   "metadata": {},
   "source": [
    "### Day 3: Intro to Conditional Statements\n",
    "\n",
    "**Objective**<br>\n",
    "In this challenge, we learn about conditional statements. Check out the Tutorial tab for learning materials and an instructional video.\n",
    "\n",
    "**Task**<br>\n",
    "Given an integer, *n*, perform the following conditional actions:\n",
    "\n",
    "- If *n* is odd, print Weird\n",
    "- If *n* is even and in the inclusive range of *2* to *5*, print Not Weird\n",
    "- If *n* is even and in the inclusive range of *6* to *20*, print Weird\n",
    "- If *n* is even and greater than *20*, print Not Weird<br>\n",
    "Complete the stub code provided in your editor to print whether or not *n* is weird.\n",
    "\n",
    "**Input Format**<br>\n",
    "A single line containing a positive integer, *n*.\n",
    "\n",
    "**Constraints**\n",
    "- *1 ≤ n ≤ 100*\n",
    "\n",
    "**Output Format**<br>\n",
    "Print Weird if the number is weird; otherwise, print Not Weird."
   ]
  },
  {
   "cell_type": "code",
   "execution_count": 1,
   "metadata": {},
   "outputs": [
    {
     "name": "stdout",
     "output_type": "stream",
     "text": [
      "Not Weird\n"
     ]
    }
   ],
   "source": [
    "if __name__ == '__main__':\n",
    "    N = int(input().strip())\n",
    "\n",
    "if (N % 2 == 1) or ((N % 2 == 0 ) and (6 <= N <= 20)):\n",
    "    print('Weird')\n",
    "else:\n",
    "    print('Not Weird')"
   ]
  }
 ],
 "metadata": {
  "kernelspec": {
   "display_name": "Python 3",
   "language": "python",
   "name": "python3"
  },
  "language_info": {
   "codemirror_mode": {
    "name": "ipython",
    "version": 3
   },
   "file_extension": ".py",
   "mimetype": "text/x-python",
   "name": "python",
   "nbconvert_exporter": "python",
   "pygments_lexer": "ipython3",
   "version": "3.10.8"
  }
 },
 "nbformat": 4,
 "nbformat_minor": 2
}
